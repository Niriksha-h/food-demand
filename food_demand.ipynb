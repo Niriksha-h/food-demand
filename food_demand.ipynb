{
  "nbformat": 4,
  "nbformat_minor": 0,
  "metadata": {
    "colab": {
      "provenance": [],
      "authorship_tag": "ABX9TyNEfTxI9/s+Z/zMlYOaRJ/X",
      "include_colab_link": true
    },
    "kernelspec": {
      "name": "python3",
      "display_name": "Python 3"
    },
    "language_info": {
      "name": "python"
    }
  },
  "cells": [
    {
      "cell_type": "markdown",
      "metadata": {
        "id": "view-in-github",
        "colab_type": "text"
      },
      "source": [
        "<a href=\"https://colab.research.google.com/github/Niriksha-h/food-demand/blob/main/food_demand.ipynb\" target=\"_parent\"><img src=\"https://colab.research.google.com/assets/colab-badge.svg\" alt=\"Open In Colab\"/></a>"
      ]
    },
    {
      "cell_type": "code",
      "source": [
        "import pandas as pd\n",
        "import numpy as np\n",
        "from sklearn.linear_model import LinearRegression\n",
        "\n",
        "food_items = ['Pizza', 'Burger', 'Pasta', 'Indian', 'Chinese', 'Mexican', 'Thai', 'Italian']\n",
        "days = 3\n",
        "data = {\n",
        "    'date': pd.date_range(start='2025-06-01', periods=days).tolist() * len(food_items),\n",
        "    'food_item': sum([[item]*days for item in food_items], []),\n",
        "    'orders': np.random.poisson(\n",
        "        lam=sum([[np.random.randint(25, 50)] * days for _ in food_items], []),\n",
        "        size=days * len(food_items)\n",
        "    )\n",
        "}\n",
        "\n",
        "df = pd.DataFrame(data)\n",
        "\n",
        "df.to_csv(\"high_demand_food_dataset.csv\", index=False)\n",
        "print(\" Dataset saved as 'high_demand_food_dataset.csv'\")\n",
        "\n",
        "df_grouped = df.groupby(['date', 'food_item']).sum().reset_index()\n",
        "\n",
        "total_sales = df_grouped.groupby('food_item')['orders'].sum().sort_values(ascending=False)\n",
        "print(\"\\n Total Orders in Last Days:\")\n",
        "print(total_sales)\n",
        "\n",
        "predictions = {}\n",
        "\n",
        "for food in df_grouped['food_item'].unique():\n",
        "    food_df = df_grouped[df_grouped['food_item'] == food].sort_values('date')\n",
        "    food_df['day_num'] = np.arange(len(food_df))\n",
        "\n",
        "    X = food_df[['day_num']]\n",
        "    y = food_df['orders']\n",
        "\n",
        "    model = LinearRegression()\n",
        "    model.fit(X, y)\n",
        "\n",
        "    next_day = len(food_df)\n",
        "    predicted_orders = model.predict([[next_day]])[0]\n",
        "    predictions[food] = predicted_orders\n",
        "\n",
        "print(\"\\n Predicted Orders for Tomorrow:\")\n",
        "for food, pred in sorted(predictions.items(), key=lambda x: -x[1]):\n",
        "    print(f\"{food}: {pred:.2f} orders\")\n",
        "\n",
        "best_food = max(predictions, key=predictions.get)\n",
        "print(f\"\\n Predicted High-Demand Food for Tomorrow: {best_food}\")\n"
      ],
      "metadata": {
        "colab": {
          "base_uri": "https://localhost:8080/"
        },
        "id": "M5mgV48sB0HL",
        "outputId": "3a26c239-b008-47f7-f6f3-eb1fb53be13b"
      },
      "execution_count": 1,
      "outputs": [
        {
          "output_type": "stream",
          "name": "stdout",
          "text": [
            " Dataset saved as 'high_demand_food_dataset.csv'\n",
            "\n",
            " Total Orders in Last Days:\n",
            "food_item\n",
            "Indian     138\n",
            "Burger     135\n",
            "Chinese    135\n",
            "Thai       126\n",
            "Italian    112\n",
            "Pizza       96\n",
            "Pasta       87\n",
            "Mexican     85\n",
            "Name: orders, dtype: int64\n",
            "\n",
            " Predicted Orders for Tomorrow:\n",
            "Burger: 43.00 orders\n",
            "Indian: 43.00 orders\n",
            "Thai: 39.00 orders\n",
            "Pizza: 37.00 orders\n",
            "Pasta: 34.00 orders\n",
            "Italian: 29.33 orders\n",
            "Chinese: 29.00 orders\n",
            "Mexican: 25.33 orders\n",
            "\n",
            " Predicted High-Demand Food for Tomorrow: Burger\n"
          ]
        },
        {
          "output_type": "stream",
          "name": "stderr",
          "text": [
            "/usr/local/lib/python3.11/dist-packages/sklearn/utils/validation.py:2739: UserWarning: X does not have valid feature names, but LinearRegression was fitted with feature names\n",
            "  warnings.warn(\n",
            "/usr/local/lib/python3.11/dist-packages/sklearn/utils/validation.py:2739: UserWarning: X does not have valid feature names, but LinearRegression was fitted with feature names\n",
            "  warnings.warn(\n",
            "/usr/local/lib/python3.11/dist-packages/sklearn/utils/validation.py:2739: UserWarning: X does not have valid feature names, but LinearRegression was fitted with feature names\n",
            "  warnings.warn(\n",
            "/usr/local/lib/python3.11/dist-packages/sklearn/utils/validation.py:2739: UserWarning: X does not have valid feature names, but LinearRegression was fitted with feature names\n",
            "  warnings.warn(\n",
            "/usr/local/lib/python3.11/dist-packages/sklearn/utils/validation.py:2739: UserWarning: X does not have valid feature names, but LinearRegression was fitted with feature names\n",
            "  warnings.warn(\n",
            "/usr/local/lib/python3.11/dist-packages/sklearn/utils/validation.py:2739: UserWarning: X does not have valid feature names, but LinearRegression was fitted with feature names\n",
            "  warnings.warn(\n",
            "/usr/local/lib/python3.11/dist-packages/sklearn/utils/validation.py:2739: UserWarning: X does not have valid feature names, but LinearRegression was fitted with feature names\n",
            "  warnings.warn(\n",
            "/usr/local/lib/python3.11/dist-packages/sklearn/utils/validation.py:2739: UserWarning: X does not have valid feature names, but LinearRegression was fitted with feature names\n",
            "  warnings.warn(\n"
          ]
        }
      ]
    }
  ]
}